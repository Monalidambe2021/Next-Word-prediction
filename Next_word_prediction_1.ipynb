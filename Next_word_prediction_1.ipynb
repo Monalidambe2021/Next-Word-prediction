{
  "nbformat": 4,
  "nbformat_minor": 0,
  "metadata": {
    "accelerator": "GPU",
    "colab": {
      "name": "Next_word_prediction_1.ipynb",
      "provenance": [],
      "collapsed_sections": [],
      "mount_file_id": "1GOZhjUueJAZzb5ci0B3zq3Z_h9QxsD_l",
      "authorship_tag": "ABX9TyMub90bh5acpjF9OGQaGA2o",
      "include_colab_link": true
    },
    "kernelspec": {
      "display_name": "Python 3",
      "name": "python3"
    },
    "language_info": {
      "name": "python"
    }
  },
  "cells": [
    {
      "cell_type": "markdown",
      "metadata": {
        "id": "view-in-github",
        "colab_type": "text"
      },
      "source": [
        "<a href=\"https://colab.research.google.com/github/Monalidambe2021/Next-Word-prediction/blob/main/Next_word_prediction_1.ipynb\" target=\"_parent\"><img src=\"https://colab.research.google.com/assets/colab-badge.svg\" alt=\"Open In Colab\"/></a>"
      ]
    },
    {
      "cell_type": "code",
      "metadata": {
        "id": "SnVPxwVHDVmd"
      },
      "source": [
        "# Load the libraries\n",
        "import tensorflow as tf\n",
        "from tensorflow.keras.preprocessing.text import Tokenizer\n",
        "from tensorflow.keras.layers import Embedding, LSTM, Dense\n",
        "from tensorflow.keras.models import Sequential\n",
        "from tensorflow.keras.utils import to_categorical\n",
        "from tensorflow.keras.optimizers import Adam\n",
        "import pickle\n",
        "import numpy as np\n",
        "import os"
      ],
      "execution_count": null,
      "outputs": []
    },
    {
      "cell_type": "code",
      "metadata": {
        "id": "7Lgrr0qbDX9A"
      },
      "source": [
        " # Load dataset\n",
        " file = open(\"/content/drive/MyDrive/Datasets/metamorphosis_clean.txt\", \"r\", encoding = \"utf8\")"
      ],
      "execution_count": null,
      "outputs": []
    },
    {
      "cell_type": "code",
      "metadata": {
        "id": "RAPXnzt1Dvh5"
      },
      "source": [
        " # store file in list\n",
        "lines = []\n",
        "for i in file:\n",
        "    lines.append(i)"
      ],
      "execution_count": null,
      "outputs": []
    },
    {
      "cell_type": "code",
      "metadata": {
        "id": "jikDoWxfDzUm"
      },
      "source": [
        " # Convert list to string\n",
        "data = \"\"\n",
        "for i in lines:\n",
        "  data = ' '. join(lines)"
      ],
      "execution_count": null,
      "outputs": []
    },
    {
      "cell_type": "code",
      "metadata": {
        "id": "qS2xifciD24V"
      },
      "source": [
        " #replace unnecessary stuff with space\n",
        "data = data.replace('\\n', '').replace('\\r', '').replace('\\ufeff', '').replace('“','').replace('”','')  #new line, carriage return, unicode character --> replace by space"
      ],
      "execution_count": null,
      "outputs": []
    },
    {
      "cell_type": "code",
      "metadata": {
        "colab": {
          "base_uri": "https://localhost:8080/",
          "height": 295
        },
        "id": "e1KZO_heD-Ec",
        "outputId": "8bb3307e-eb6d-412d-d06a-4da19ef754f1"
      },
      "source": [
        " #remove unnecessary spaces \n",
        "data = data.split()\n",
        "data = ' '.join(data)\n",
        "data[:500]"
      ],
      "execution_count": null,
      "outputs": [
        {
          "output_type": "execute_result",
          "data": {
            "application/vnd.google.colaboratory.intrinsic+json": {
              "type": "string"
            },
            "text/plain": [
              "'One morning, when Gregor Samsa woke from troubled dreams, he found himself transformed in his bed into a horrible vermin. He lay on his armour-like back, and if he lifted his head a little he could see his brown belly, slightly domed and divided by arches into stiff sections. The bedding was hardly able to cover it and seemed ready to slide off any moment. His many legs, pitifully thin compared with the size of the rest of him, waved about helplessly as he looked. \"What\\'s happened to me?\" he tho'"
            ]
          },
          "metadata": {
            "tags": []
          },
          "execution_count": 6
        }
      ]
    },
    {
      "cell_type": "code",
      "metadata": {
        "colab": {
          "base_uri": "https://localhost:8080/"
        },
        "id": "RI8lpQR9D-fI",
        "outputId": "48a8bc02-fb78-47d1-93af-2389b8560ee3"
      },
      "source": [
        " len(data)"
      ],
      "execution_count": null,
      "outputs": [
        {
          "output_type": "execute_result",
          "data": {
            "text/plain": [
              "118461"
            ]
          },
          "metadata": {
            "tags": []
          },
          "execution_count": 7
        }
      ]
    },
    {
      "cell_type": "code",
      "metadata": {
        "colab": {
          "base_uri": "https://localhost:8080/"
        },
        "id": "3TxT7LsWEGbc",
        "outputId": "d3beae30-b711-4e02-fcc0-1c32524cd2a7"
      },
      "source": [
        " # apply tokenization\n",
        "tokenizer = Tokenizer()\n",
        "tokenizer.fit_on_texts([data])\n",
        " \n",
        "# saving the tokenizer for predict function\n",
        "pickle.dump(tokenizer, open('token.pkl', 'wb'))\n",
        " \n",
        "sequence_data = tokenizer.texts_to_sequences([data])[0]\n",
        "sequence_data[:15]"
      ],
      "execution_count": null,
      "outputs": [
        {
          "output_type": "execute_result",
          "data": {
            "text/plain": [
              "[52, 139, 55, 14, 93, 935, 28, 1313, 936, 4, 241, 42, 1314, 10, 5]"
            ]
          },
          "metadata": {
            "tags": []
          },
          "execution_count": 8
        }
      ]
    },
    {
      "cell_type": "code",
      "metadata": {
        "colab": {
          "base_uri": "https://localhost:8080/"
        },
        "id": "kibo-P5IEcrt",
        "outputId": "877d6a7c-14fd-4366-a17e-e4566e59900e"
      },
      "source": [
        " len(sequence_data)"
      ],
      "execution_count": null,
      "outputs": [
        {
          "output_type": "execute_result",
          "data": {
            "text/plain": [
              "22047"
            ]
          },
          "metadata": {
            "tags": []
          },
          "execution_count": 9
        }
      ]
    },
    {
      "cell_type": "code",
      "metadata": {
        "colab": {
          "base_uri": "https://localhost:8080/"
        },
        "id": "DMLH9xOWEGnv",
        "outputId": "89844cc7-8dc8-46c8-8036-70de04a55a28"
      },
      "source": [
        " vocab_size = len(tokenizer.word_index) + 1\n",
        "print(vocab_size)"
      ],
      "execution_count": null,
      "outputs": [
        {
          "output_type": "stream",
          "text": [
            "2617\n"
          ],
          "name": "stdout"
        }
      ]
    },
    {
      "cell_type": "code",
      "metadata": {
        "colab": {
          "base_uri": "https://localhost:8080/"
        },
        "id": "g47cCluVEjED",
        "outputId": "17df95ab-3710-4d06-a556-e6cc1c57595d"
      },
      "source": [
        " #create word -> word sequuences\n",
        " sequences = []\n",
        " \n",
        "for i in range(3, len(sequence_data)):\n",
        "    words = sequence_data[i-3:i+1]\n",
        "    sequences.append(words)\n",
        "    \n",
        "print(\"The Length of sequences are: \", len(sequences))\n",
        "sequences = np.array(sequences)\n",
        "sequences[:10]"
      ],
      "execution_count": null,
      "outputs": [
        {
          "output_type": "stream",
          "text": [
            "The Length of sequences are:  22044\n"
          ],
          "name": "stdout"
        },
        {
          "output_type": "execute_result",
          "data": {
            "text/plain": [
              "array([[  52,  139,   55,   14],\n",
              "       [ 139,   55,   14,   93],\n",
              "       [  55,   14,   93,  935],\n",
              "       [  14,   93,  935,   28],\n",
              "       [  93,  935,   28, 1313],\n",
              "       [ 935,   28, 1313,  936],\n",
              "       [  28, 1313,  936,    4],\n",
              "       [1313,  936,    4,  241],\n",
              "       [ 936,    4,  241,   42],\n",
              "       [   4,  241,   42, 1314]])"
            ]
          },
          "metadata": {
            "tags": []
          },
          "execution_count": 11
        }
      ]
    },
    {
      "cell_type": "code",
      "metadata": {
        "id": "tqcLu0OkEq-1"
      },
      "source": [
        " X = []\n",
        "y = []\n",
        " \n",
        "for i in sequences:\n",
        "    X.append(i[0:3])\n",
        "    y.append(i[3])\n",
        "    \n",
        "X = np.array(X)\n",
        "y = np.array(y)"
      ],
      "execution_count": null,
      "outputs": []
    },
    {
      "cell_type": "code",
      "metadata": {
        "colab": {
          "base_uri": "https://localhost:8080/"
        },
        "id": "f4ih6y8cEu0H",
        "outputId": "42a72dec-4efa-4083-8b64-d305cd14b074"
      },
      "source": [
        " print(\"Data: \", X[:10])\n",
        "print(\"Response: \", y[:10])"
      ],
      "execution_count": null,
      "outputs": [
        {
          "output_type": "stream",
          "text": [
            "Data:  [[  52  139   55]\n",
            " [ 139   55   14]\n",
            " [  55   14   93]\n",
            " [  14   93  935]\n",
            " [  93  935   28]\n",
            " [ 935   28 1313]\n",
            " [  28 1313  936]\n",
            " [1313  936    4]\n",
            " [ 936    4  241]\n",
            " [   4  241   42]]\n",
            "Response:  [  14   93  935   28 1313  936    4  241   42 1314]\n"
          ],
          "name": "stdout"
        }
      ]
    },
    {
      "cell_type": "code",
      "metadata": {
        "colab": {
          "base_uri": "https://localhost:8080/"
        },
        "id": "tM0Aqr4sEzV4",
        "outputId": "1a90b8e1-c58e-4ac2-da8f-43c291ffc4ad"
      },
      "source": [
        " #one hot encode outputs\n",
        " y = to_categorical(y, num_classes=vocab_size)\n",
        " #define model\n",
        "y[:5]"
      ],
      "execution_count": null,
      "outputs": [
        {
          "output_type": "execute_result",
          "data": {
            "text/plain": [
              "array([[0., 0., 0., ..., 0., 0., 0.],\n",
              "       [0., 0., 0., ..., 0., 0., 0.],\n",
              "       [0., 0., 0., ..., 0., 0., 0.],\n",
              "       [0., 0., 0., ..., 0., 0., 0.],\n",
              "       [0., 0., 0., ..., 0., 0., 0.]], dtype=float32)"
            ]
          },
          "metadata": {
            "tags": []
          },
          "execution_count": 14
        }
      ]
    },
    {
      "cell_type": "code",
      "metadata": {
        "id": "mAbwFJlkE17m"
      },
      "source": [
        " #Create Model\n",
        "model = Sequential()\n",
        "model.add(Embedding(vocab_size, 10, input_length=3))\n",
        "model.add(LSTM(1000, return_sequences=True))\n",
        "model.add(LSTM(1000))\n",
        "model.add(Dense(1000, activation=\"relu\"))\n",
        "model.add(Dense(vocab_size, activation=\"softmax\"))"
      ],
      "execution_count": null,
      "outputs": []
    },
    {
      "cell_type": "code",
      "metadata": {
        "colab": {
          "base_uri": "https://localhost:8080/"
        },
        "id": "GYdqZnSUFAR4",
        "outputId": "f861e3c5-31a3-4a04-a7b1-1767102d6db7"
      },
      "source": [
        " model.summary()"
      ],
      "execution_count": null,
      "outputs": [
        {
          "output_type": "stream",
          "text": [
            "Model: \"sequential\"\n",
            "_________________________________________________________________\n",
            "Layer (type)                 Output Shape              Param #   \n",
            "=================================================================\n",
            "embedding (Embedding)        (None, 3, 10)             26170     \n",
            "_________________________________________________________________\n",
            "lstm (LSTM)                  (None, 3, 1000)           4044000   \n",
            "_________________________________________________________________\n",
            "lstm_1 (LSTM)                (None, 1000)              8004000   \n",
            "_________________________________________________________________\n",
            "dense (Dense)                (None, 1000)              1001000   \n",
            "_________________________________________________________________\n",
            "dense_1 (Dense)              (None, 2617)              2619617   \n",
            "=================================================================\n",
            "Total params: 15,694,787\n",
            "Trainable params: 15,694,787\n",
            "Non-trainable params: 0\n",
            "_________________________________________________________________\n"
          ],
          "name": "stdout"
        }
      ]
    },
    {
      "cell_type": "code",
      "metadata": {
        "colab": {
          "base_uri": "https://localhost:8080/",
          "height": 564
        },
        "id": "PGiGUw3bFDYZ",
        "outputId": "aaab1fe3-61d6-44ad-f3cf-641767fe9841"
      },
      "source": [
        " # plot the model\n",
        "from tensorflow import keras\n",
        "from keras.utils.vis_utils import plot_model\n",
        " \n",
        "keras.utils.plot_model(model, to_file='plot.png', show_layer_names=True)"
      ],
      "execution_count": null,
      "outputs": [
        {
          "output_type": "execute_result",
          "data": {
            "image/png": "[encoded data removed]",
            "text/plain": [
              "<IPython.core.display.Image object>"
            ]
          },
          "metadata": {
            "tags": []
          },
          "execution_count": 17
        }
      ]
    },
    {
      "cell_type": "code",
      "metadata": {
        "colab": {
          "background_save": true,
          "base_uri": "https://localhost:8080/"
        },
        "id": "ZzBQZ2TxFQT_",
        "outputId": "df1fc5a3-8fb6-4150-89f3-26a796e23ab2"
      },
      "source": [
        " #Train the model\n",
        "from tensorflow.keras.callbacks import ModelCheckpoint\n",
        " \n",
        "checkpoint = ModelCheckpoint(\"next_words.h5\", monitor='loss', verbose=1, save_best_only=True)\n",
        "model.compile(loss=\"categorical_crossentropy\", optimizer=Adam(learning_rate=0.001))\n",
        "model.fit(X, y, epochs=70, batch_size=64, callbacks=[checkpoint])"
      ],
      "execution_count": null,
      "outputs": [
        {
          "output_type": "stream",
          "text": [
            "Epoch 1/70\n",
            "345/345 [==============================] - 162s 460ms/step - loss: 6.3184\n",
            "\n",
            "Epoch 00001: loss improved from inf to 6.31837, saving model to next_words.h5\n",
            "Epoch 2/70\n",
            "345/345 [==============================] - 159s 461ms/step - loss: 5.9428\n",
            "\n",
            "Epoch 00002: loss improved from 6.31837 to 5.94275, saving model to next_words.h5\n",
            "Epoch 3/70\n",
            "345/345 [==============================] - 158s 459ms/step - loss: 5.6841\n",
            "\n",
            "Epoch 00003: loss improved from 5.94275 to 5.68415, saving model to next_words.h5\n",
            "Epoch 4/70\n",
            "345/345 [==============================] - 160s 464ms/step - loss: 5.4345\n",
            "\n",
            "Epoch 00004: loss improved from 5.68415 to 5.43451, saving model to next_words.h5\n",
            "Epoch 5/70\n",
            "345/345 [==============================] - 159s 461ms/step - loss: 5.1683\n",
            "\n",
            "Epoch 00005: loss improved from 5.43451 to 5.16833, saving model to next_words.h5\n",
            "Epoch 6/70\n",
            "345/345 [==============================] - 159s 462ms/step - loss: 4.9308\n",
            "\n",
            "Epoch 00006: loss improved from 5.16833 to 4.93083, saving model to next_words.h5\n",
            "Epoch 7/70\n",
            "345/345 [==============================] - 159s 461ms/step - loss: 4.7064\n",
            "\n",
            "Epoch 00007: loss improved from 4.93083 to 4.70642, saving model to next_words.h5\n",
            "Epoch 8/70\n",
            "345/345 [==============================] - 158s 457ms/step - loss: 4.5136\n",
            "\n",
            "Epoch 00008: loss improved from 4.70642 to 4.51356, saving model to next_words.h5\n",
            "Epoch 9/70\n",
            "345/345 [==============================] - 157s 456ms/step - loss: 4.3248\n",
            "\n",
            "Epoch 00009: loss improved from 4.51356 to 4.32483, saving model to next_words.h5\n",
            "Epoch 10/70\n",
            "345/345 [==============================] - 156s 452ms/step - loss: 4.1164\n",
            "\n",
            "Epoch 00010: loss improved from 4.32483 to 4.11642, saving model to next_words.h5\n",
            "Epoch 11/70\n",
            "345/345 [==============================] - 158s 457ms/step - loss: 3.8872\n",
            "\n",
            "Epoch 00011: loss improved from 4.11642 to 3.88715, saving model to next_words.h5\n",
            "Epoch 12/70\n",
            "345/345 [==============================] - 157s 455ms/step - loss: 3.6278\n",
            "\n",
            "Epoch 00012: loss improved from 3.88715 to 3.62777, saving model to next_words.h5\n",
            "Epoch 13/70\n",
            "345/345 [==============================] - 158s 459ms/step - loss: 3.3625\n",
            "\n",
            "Epoch 00013: loss improved from 3.62777 to 3.36249, saving model to next_words.h5\n",
            "Epoch 14/70\n",
            "345/345 [==============================] - 158s 458ms/step - loss: 3.0720\n",
            "\n",
            "Epoch 00014: loss improved from 3.36249 to 3.07203, saving model to next_words.h5\n",
            "Epoch 15/70\n",
            "345/345 [==============================] - 159s 460ms/step - loss: 2.7775\n",
            "\n",
            "Epoch 00015: loss improved from 3.07203 to 2.77753, saving model to next_words.h5\n",
            "Epoch 16/70\n",
            "345/345 [==============================] - 159s 462ms/step - loss: 2.4899\n",
            "\n",
            "Epoch 00016: loss improved from 2.77753 to 2.48986, saving model to next_words.h5\n",
            "Epoch 17/70\n",
            "345/345 [==============================] - 160s 463ms/step - loss: 2.2255\n",
            "\n",
            "Epoch 00017: loss improved from 2.48986 to 2.22545, saving model to next_words.h5\n",
            "Epoch 18/70\n",
            "345/345 [==============================] - 159s 461ms/step - loss: 1.9706\n",
            "\n",
            "Epoch 00018: loss improved from 2.22545 to 1.97062, saving model to next_words.h5\n",
            "Epoch 19/70\n",
            "345/345 [==============================] - 159s 460ms/step - loss: 1.7407\n",
            "\n",
            "Epoch 00019: loss improved from 1.97062 to 1.74068, saving model to next_words.h5\n",
            "Epoch 20/70\n",
            "345/345 [==============================] - 159s 460ms/step - loss: 1.5219\n",
            "\n",
            "Epoch 00020: loss improved from 1.74068 to 1.52185, saving model to next_words.h5\n",
            "Epoch 21/70\n",
            "345/345 [==============================] - 156s 452ms/step - loss: 1.3224\n",
            "\n",
            "Epoch 00021: loss improved from 1.52185 to 1.32237, saving model to next_words.h5\n",
            "Epoch 22/70\n",
            "345/345 [==============================] - 157s 455ms/step - loss: 1.1561\n",
            "\n",
            "Epoch 00022: loss improved from 1.32237 to 1.15614, saving model to next_words.h5\n",
            "Epoch 23/70\n",
            "232/345 [===================>..........] - ETA: 51s - loss: 0.9594"
          ],
          "name": "stdout"
        }
      ]
    },
    {
      "cell_type": "code",
      "metadata": {
        "id": "Om_Mj1LNFLH5"
      },
      "source": [
        " #predict the model\n",
        "from tensorflow.keras.models import load_model\n",
        "import numpy as np\n",
        "import pickle\n",
        " \n",
        "# Load the model and tokenizer\n",
        "model = load_model('next_words.h5')\n",
        "tokenizer = pickle.load(open('token.pkl', 'rb'))\n",
        " \n",
        "def Predict_Next_Words(model, tokenizer, text):\n",
        " \n",
        "  sequence = tokenizer.texts_to_sequences([text])\n",
        "  sequence = np.array(sequence)\n",
        "  preds = np.argmax(model.predict(sequence))\n",
        "  predicted_word = \"\"\n",
        "  \n",
        "  for key, value in tokenizer.word_index.items():\n",
        "      if value == preds:\n",
        "          predicted_word = key\n",
        "          break\n",
        "  \n",
        "  print(predicted_word)\n",
        "  return predicted_word"
      ],
      "execution_count": null,
      "outputs": []
    },
    {
      "cell_type": "code",
      "metadata": {
        "colab": {
          "base_uri": "https://localhost:8080/"
        },
        "id": "YSUrG4yeF87Y",
        "outputId": "30ac748a-cfd9-46d9-ee22-cc6cb512507a"
      },
      "source": [
        " while(True):\n",
        "  text = input(\"Enter your line: \")\n",
        "  \n",
        "  if text == \"0\":\n",
        "      print(\"Execution completed.....\")\n",
        "      break\n",
        "  \n",
        "  else:\n",
        "      try:\n",
        "          text = text.split(\" \")\n",
        "          text = text[-3:]\n",
        "          print(text)\n",
        "        \n",
        "          Predict_Next_Words(model, tokenizer, text)\n",
        "          \n",
        "      except Exception as e:\n",
        "        print(\"Error occurred: \",e)\n",
        "        continue"
      ],
      "execution_count": null,
      "outputs": [
        {
          "output_type": "stream",
          "text": [
            "Enter your line: Data preprocessing in nlp\n",
            "['preprocessing', 'in', 'nlp']\n",
            "the\n",
            "Enter your line: What is the weather in\n",
            "['the', 'weather', 'in']\n",
            "there\n",
            "Enter your line: Puna located in \n",
            "['located', 'in', '']\n",
            "the\n",
            "Enter your line: How we find type of data structure in\n",
            "['data', 'structure', 'in']\n",
            "this\n"
          ],
          "name": "stdout"
        }
      ]
    },
    {
      "cell_type": "code",
      "metadata": {
        "id": "32XiIaBjMYsw"
      },
      "source": [
        ""
      ],
      "execution_count": null,
      "outputs": []
    },
    {
      "cell_type": "code",
      "metadata": {
        "id": "G5_BcwnlF-d6"
      },
      "source": [
        ""
      ],
      "execution_count": null,
      "outputs": []
    }
  ]
}